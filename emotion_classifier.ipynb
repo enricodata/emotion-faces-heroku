{
 "cells": [
  {
   "cell_type": "code",
   "execution_count": null,
   "metadata": {
    "id": "cc1YbLDj4DyL"
   },
   "outputs": [],
   "source": [
    "from fastai2.vision.all import *\n",
    "from fastai2.vision.widgets import *"
   ]
  },
  {
   "cell_type": "markdown",
   "metadata": {
    "id": "uNjgBs3W4Dyd"
   },
   "source": [
    "# Emotion face classifier"
   ]
  },
  {
   "cell_type": "markdown",
   "metadata": {
    "id": "N1ajagId4Dyj"
   },
   "source": [
    "Upload a photo of a face of a person with one of the following emotions:\n",
    "**angry**, **happy**, **surprised**, **thinking**\n",
    "\n",
    "This application will tell you which one of those **feelings** in that image.\n",
    "\n",
    "The model has been trained with photos of humans (so it not supposed to work with paintings, animals...) with deep learning with Fastai2.\n",
    "\n",
    "----"
   ]
  },
  {
   "cell_type": "code",
   "execution_count": null,
   "metadata": {
    "id": "BtJnKp374Dyl"
   },
   "outputs": [],
   "source": [
    "path = Path()\n",
    "learn_inf = load_learner(path/'export.pkl', cpu=True)\n",
    "\n",
    "#version with export.pkl on google drive\n",
    "#import urllib.request\n",
    "#MODEL_URL = \"https://drive.google.com/uc?export=download&id=1-2GeYOD0CFq2pJl0fCgRsVK_YlbsB79C\"\n",
    "#urllib.request.urlretrieve(MODEL_URL, \"export.pkl\")\n",
    "#learn_inf = load_learner(Path(\".\"), \"export.pkl\")\n",
    "\n",
    "btn_upload = widgets.FileUpload()\n",
    "out_pl = widgets.Output()\n",
    "lbl_pred = widgets.Label()"
   ]
  },
  {
   "cell_type": "code",
   "execution_count": null,
   "metadata": {
    "id": "TsuHmYx84Dy_"
   },
   "outputs": [],
   "source": [
    "def on_click(change):\n",
    "    img = PILImage.create(btn_upload.data[-1])\n",
    "    out_pl.clear_output()\n",
    "    with out_pl: display(img.to_thumb(128,128))\n",
    "    pred,pred_idx,probs = learn_inf.predict(img)\n",
    "    lbl_pred.value = f'Prediction: {pred}; Probability: {probs[pred_idx]:.04f}'"
   ]
  },
  {
   "cell_type": "code",
   "execution_count": null,
   "metadata": {
    "id": "IhPr_pOE4DzQ"
   },
   "outputs": [],
   "source": [
    "btn_upload.observe(on_click, names=['data'])"
   ]
  },
  {
   "cell_type": "code",
   "execution_count": null,
   "metadata": {
    "id": "mMm6FlTJ4Dz0",
    "scrolled": false
   },
   "outputs": [],
   "source": [
    "display(VBox([widgets.Label('Select a photo!'), btn_upload, out_pl, lbl_pred]))"
   ]
  },
  {
   "cell_type": "code",
   "execution_count": null,
   "metadata": {
    "id": "BfSfJJHB4D0J"
   },
   "outputs": [],
   "source": []
  }
 ],
 "metadata": {
  "colab": {
   "collapsed_sections": [],
   "name": "emotion_classifier.ipynb",
   "provenance": []
  },
  "jupytext": {
   "split_at_heading": true
  },
  "kernelspec": {
   "display_name": "Python 3",
   "language": "python",
   "name": "python3"
  },
  "language_info": {
   "codemirror_mode": {
    "name": "ipython",
    "version": 3
   },
   "file_extension": ".py",
   "mimetype": "text/x-python",
   "name": "python",
   "nbconvert_exporter": "python",
   "pygments_lexer": "ipython3",
   "version": "3.8.3"
  },
  "toc": {
   "base_numbering": 1,
   "nav_menu": {},
   "number_sections": false,
   "sideBar": true,
   "skip_h1_title": true,
   "title_cell": "Table of Contents",
   "title_sidebar": "Contents",
   "toc_cell": false,
   "toc_position": {},
   "toc_section_display": true,
   "toc_window_display": false
  }
 },
 "nbformat": 4,
 "nbformat_minor": 1
}
